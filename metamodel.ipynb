{
 "cells": [
  {
   "cell_type": "code",
   "execution_count": null,
   "metadata": {},
   "outputs": [],
   "source": [
    "import numpy as np\n",
    "\n",
    "import keras\n",
    "from keras.models import Sequential\n",
    "from keras.layers import Dense, Dropout, Activation\n",
    "from keras.optimizers import SGD"
   ]
  },
  {
   "cell_type": "code",
   "execution_count": 4,
   "metadata": {},
   "outputs": [],
   "source": [
    "class Model:\n",
    "\n",
    "    def __init__(self, model=None):\n",
    "            if model is None:\n",
    "                self.model = Sequential()\n",
    "                #model.add(Dense(32, activation='relu', input_dim = dimension + size_hist*(dimension+1)))\n",
    "                self.model.add(Dense(64, activation='relu', input_dim = 17, kernel_initializer='RandomUniform', bias_initializer='zeros'))\n",
    "                #self.model.add(Dropout(0.5))\n",
    "                self.model.add(Dense(128, activation='relu', kernel_initializer='RandomUniform', bias_initializer='zeros'))\n",
    "                #self.model.add(Dropout(0.5))\n",
    "                self.model.add(Dense(1, activation='linear', kernel_initializer='RandomUniform', bias_initializer='zeros'))\n",
    "\n",
    "                optimizer = keras.optimizers.Adam(lr=0.00001, beta_1=0.9, beta_2=0.999, epsilon=None, decay=1e-6, amsgrad=False)\n",
    "\n",
    "                self.model.compile(loss='mse',\n",
    "                              optimizer='adam',\n",
    "                              metrics=['accuracy'])\n",
    "            else:\n",
    "                self.model = model\n",
    "            \n",
    "    def fit_gen(self, points, Hf, y_net):\n",
    "        \n",
    "        while True:\n",
    "            for i in range(len(points)):\n",
    "                x_batch = []\n",
    "                y_batch = []\n",
    "                    \n",
    "                for j in range(1):\n",
    "                    x_item = np.concatenate((points[i], Hf[i].flatten()))\n",
    "                    y_item = y_net[i]\n",
    "                    x_batch.append(x_item)\n",
    "                    y_batch.append(y_item)\n",
    "                    \n",
    "                yield np.array(x_batch), np.array(y_batch)\n",
    "    \n",
    "    def fit(self, d):\n",
    "        \n",
    "        points = d[:, 0]\n",
    "        Hf = d[:, 1]\n",
    "        y_net = d[:, 2]\n",
    "        \n",
    "        gen = self.fit_gen(points, Hf, y_net)\n",
    "        self.model.fit_generator(gen, steps_per_epoch=1, nb_epoch=32,verbose=0)\n",
    "        \n",
    "        \n",
    "    def predict(self, points, curr_hf):\n",
    "        \n",
    "        curr_hf = curr_hf.flatten()\n",
    "        curr_hf = np.tile(curr_hf, (len(points), 1))\n",
    "        x_test = np.hstack((points, curr_hf))*20\n",
    "        score = self.model.predict(x_test)\n",
    "        return score\n",
    "    \n",
    "#model = Model()"
   ]
  },
  {
   "cell_type": "code",
   "execution_count": null,
   "metadata": {},
   "outputs": [],
   "source": [
    "#d = np.load('dataset.npy')"
   ]
  },
  {
   "cell_type": "code",
   "execution_count": null,
   "metadata": {},
   "outputs": [],
   "source": [
    "#model = Model()\n",
    "#odel.fit(d)\n",
    "#model.model.save('metamodel.h5')"
   ]
  },
  {
   "cell_type": "code",
   "execution_count": null,
   "metadata": {},
   "outputs": [],
   "source": [
    "#from keras.models import load_model\n",
    "#model = load_model('metamodel.h5')\n",
    "#model = Model(model)"
   ]
  },
  {
   "cell_type": "code",
   "execution_count": null,
   "metadata": {},
   "outputs": [],
   "source": [
    "#point = d[0][0]\n",
    "#Hf = d[0][1]\n",
    "\n",
    "#print(point.shape)\n",
    "#print(Hf.shape)\n",
    "#model.predict(point, Hf)"
   ]
  },
  {
   "cell_type": "code",
   "execution_count": null,
   "metadata": {},
   "outputs": [],
   "source": []
  }
 ],
 "metadata": {
  "kernelspec": {
   "display_name": "Python 3",
   "language": "python",
   "name": "python3"
  },
  "language_info": {
   "codemirror_mode": {
    "name": "ipython",
    "version": 3
   },
   "file_extension": ".py",
   "mimetype": "text/x-python",
   "name": "python",
   "nbconvert_exporter": "python",
   "pygments_lexer": "ipython3",
   "version": "3.6.5"
  }
 },
 "nbformat": 4,
 "nbformat_minor": 2
}
