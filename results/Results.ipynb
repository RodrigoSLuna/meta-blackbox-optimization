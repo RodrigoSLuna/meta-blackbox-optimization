{
 "cells": [
  {
   "cell_type": "code",
   "execution_count": null,
   "metadata": {},
   "outputs": [],
   "source": [
    "from IPython.core.display import display, HTML"
   ]
  },
  {
   "cell_type": "code",
   "execution_count": 18,
   "metadata": {},
   "outputs": [
    {
     "data": {
      "text/html": [
       "<center><h1> Considerations </h1></center>"
      ],
      "text/plain": [
       "<IPython.core.display.HTML object>"
      ]
     },
     "metadata": {},
     "output_type": "display_data"
    }
   ],
   "source": [
    "display(HTML('<center><h1> Considerations </h1></center>')) \n",
    "\n",
    "'''\n",
    "Domain in coco dataset: -5, 5\n",
    "I put -1, 1\n",
    "\n",
    "'''"
   ]
  },
  {
   "cell_type": "code",
   "execution_count": 17,
   "metadata": {},
   "outputs": [
    {
     "data": {
      "text/html": [
       "<center><h1> Articles </h1></center>"
      ],
      "text/plain": [
       "<IPython.core.display.HTML object>"
      ]
     },
     "metadata": {},
     "output_type": "display_data"
    }
   ],
   "source": [
    "display(HTML('<center><h1> Articles </h1></center>')) "
   ]
  },
  {
   "cell_type": "code",
   "execution_count": 26,
   "metadata": {},
   "outputs": [
    {
     "data": {
      "text/html": [
       "<center><h1> 1ª part </h1></center>"
      ],
      "text/plain": [
       "<IPython.core.display.HTML object>"
      ]
     },
     "metadata": {},
     "output_type": "display_data"
    },
    {
     "data": {
      "text/html": [
       "<center> Using only F1, can we learn how to optimize all instances of F1? </center>"
      ],
      "text/plain": [
       "<IPython.core.display.HTML object>"
      ]
     },
     "metadata": {},
     "output_type": "display_data"
    },
    {
     "data": {
      "text/html": [
       "\n",
       "\n",
       "Algorithms:\n",
       "<ol>\n",
       "  <li>Random Search</li>\n",
       "  <li>Metasearch without training</li>\n",
       "  <li>Metasearch with training</li>\n",
       "</ol>\n",
       "\n",
       "<ul>\n",
       "  <li>Coffee</li>\n",
       "  <li>Tea</li>\n",
       "  <li>Milk</li>\n",
       "</ul>"
      ],
      "text/plain": [
       "<IPython.core.display.HTML object>"
      ]
     },
     "metadata": {},
     "output_type": "display_data"
    }
   ],
   "source": [
    "display(HTML('<center><h1> 1ª part </h1></center>'))\n",
    "display(HTML('<center> Using only F1, can we learn how to optimize all instances of F1? </center>'))\n",
    "display(HTML('''\n",
    "\n",
    "Algorithms:\n",
    "<ol>\n",
    "  <li>Random Search</li>\n",
    "  <li>Metasearch without training</li>\n",
    "  <li>Metasearch with training</li>\n",
    "</ol>\n",
    "\n",
    "<ul>\n",
    "  <li>Coffee</li>\n",
    "  <li>Tea</li>\n",
    "  <li>Milk</li>\n",
    "</ul>'''))\n"
   ]
  },
  {
   "cell_type": "code",
   "execution_count": 29,
   "metadata": {},
   "outputs": [
    {
     "data": {
      "text/html": [
       "<center><h1> Random Search </h1></center>"
      ],
      "text/plain": [
       "<IPython.core.display.HTML object>"
      ]
     },
     "metadata": {},
     "output_type": "display_data"
    },
    {
     "data": {
      "text/html": [
       "\n",
       "<ol>\n",
       "  <li>Choose random x in the domain</li>\n",
       "  <li>Evaluate x in function f</li>\n",
       "  <li>Check if there is an improvement</li>\n",
       "  <li>Continue</li>\n",
       "</ol>\n"
      ],
      "text/plain": [
       "<IPython.core.display.HTML object>"
      ]
     },
     "metadata": {},
     "output_type": "display_data"
    }
   ],
   "source": [
    "display(HTML('<center><h1> Random Search </h1></center>')) \n",
    "a = '''\n",
    "<ol>\n",
    "  <li>Choose random x in the domain</li>\n",
    "  <li>Evaluate x in function f</li>\n",
    "  <li>Check if there is an improvement</li>\n",
    "  <li>Continue</li>\n",
    "</ol>\n",
    "'''\n",
    "display(HTML(a))"
   ]
  },
  {
   "cell_type": "code",
   "execution_count": 31,
   "metadata": {},
   "outputs": [
    {
     "data": {
      "text/html": [
       "<center><h1> Simple Metasearch </h1></center>"
      ],
      "text/plain": [
       "<IPython.core.display.HTML object>"
      ]
     },
     "metadata": {},
     "output_type": "display_data"
    },
    {
     "data": {
      "text/html": [
       "\n",
       "<ol>\n",
       "  <li>Select n random points in domain</li>\n",
       "  <li>Evaluate all of them using meta-model (DNN) and your current history</li>\n",
       "  <li>Choose the point x that had the lowest evaluation</li>\n",
       "  <li>Evaluate x in function f</li>\n",
       "  <li>Check if there is an improvement</li>\n",
       "  <li>Updated your history</li>\n",
       "  <li>Select new current history</li>\n",
       "</ol>\n"
      ],
      "text/plain": [
       "<IPython.core.display.HTML object>"
      ]
     },
     "metadata": {},
     "output_type": "display_data"
    }
   ],
   "source": [
    "display(HTML('<center><h1> Simple Metasearch </h1></center>')) \n",
    "a = '''\n",
    "<ol>\n",
    "  <li>Select n random points in domain</li>\n",
    "  <li>Evaluate all of them using meta-model (DNN) and your current history</li>\n",
    "  <li>Choose the point x that had the lowest evaluation</li>\n",
    "  <li>Evaluate x in function f</li>\n",
    "  <li>Check if there is an improvement</li>\n",
    "  <li>Updated your history</li>\n",
    "  <li>Select new current history</li>\n",
    "</ol>\n",
    "'''\n",
    "display(HTML(a))"
   ]
  },
  {
   "cell_type": "code",
   "execution_count": null,
   "metadata": {},
   "outputs": [],
   "source": [
    "We consider the problem of optimizing an unknown function given as an\n",
    "oracle over a mixed-integer set. We assume that oracle is expensive to\n",
    "evaluate, so that estimating partial derivatives by finite differences is\n",
    "unpractical. In the literature, this is typically called a black-box\n",
    "optimization problem with costly evaluation.\n",
    "This problem class finds many application. Our main motivation comes from\n",
    "a problem of architectural design. More precisely, lighting and heating\n",
    "conditions of a building depend on the value of some design parameter\n",
    "(these are the decision variables in the usual optimization paradigm).\n",
    "The designer uses simulation software that takes as input the value of the\n",
    "design parameters and outputs illuminance and temperature values inside\n",
    "the building. In many cases, running a simulation is very time consuming.\n",
    "Since we do not know explicitly the relationship between the design\n",
    "parameters and the simulation output, we cannot define an objective\n",
    "function in terms of the decision variables.\n",
    "To solve this problem, we use the Radial Basis Function (RBF) interpolation\n",
    "approach. Given some evaluations provided by the oracle, an approximation\n",
    "of the objective function using the RBFs can be computed, leading to the\n",
    "so called \"surrogate\" model. The quality of the solution found by solving\n",
    "the resulting problem depends on the quality of the surrogate model.\n",
    "In general, one would like to find a good surrogate model by minimizing\n",
    "the number of expensive evaluations of the oracle."
   ]
  }
 ],
 "metadata": {
  "kernelspec": {
   "display_name": "Python 3",
   "language": "python",
   "name": "python3"
  },
  "language_info": {
   "codemirror_mode": {
    "name": "ipython",
    "version": 3
   },
   "file_extension": ".py",
   "mimetype": "text/x-python",
   "name": "python",
   "nbconvert_exporter": "python",
   "pygments_lexer": "ipython3",
   "version": "3.6.5"
  }
 },
 "nbformat": 4,
 "nbformat_minor": 2
}
